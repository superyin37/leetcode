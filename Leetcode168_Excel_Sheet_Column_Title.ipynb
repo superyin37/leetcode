{
  "nbformat": 4,
  "nbformat_minor": 0,
  "metadata": {
    "colab": {
      "provenance": [],
      "authorship_tag": "ABX9TyP9rUMxahIHhT5IPrE5/Q6P",
      "include_colab_link": true
    },
    "kernelspec": {
      "name": "python3",
      "display_name": "Python 3"
    },
    "language_info": {
      "name": "python"
    }
  },
  "cells": [
    {
      "cell_type": "markdown",
      "metadata": {
        "id": "view-in-github",
        "colab_type": "text"
      },
      "source": [
        "<a href=\"https://colab.research.google.com/github/superyin37/leetcode/blob/main/Leetcode168_Excel_Sheet_Column_Title.ipynb\" target=\"_parent\"><img src=\"https://colab.research.google.com/assets/colab-badge.svg\" alt=\"Open In Colab\"/></a>"
      ]
    },
    {
      "cell_type": "code",
      "execution_count": null,
      "metadata": {
        "id": "8bC1-btudZKx"
      },
      "outputs": [],
      "source": [
        "class Solution:\n",
        "    def convertToTitle(self, columnNumber: int) -> str:\n",
        "        title = ''\n",
        "        while(columnNumber != 0):\n",
        "            columnNumber -= 1\n",
        "            title = chr((columnNumber % 26) + 65) + title\n",
        "            columnNumber = columnNumber // 26\n",
        "        return title"
      ]
    }
  ]
}