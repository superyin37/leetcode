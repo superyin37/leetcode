{
  "nbformat": 4,
  "nbformat_minor": 0,
  "metadata": {
    "colab": {
      "provenance": [],
      "authorship_tag": "ABX9TyN5uTdbkmB4Gj0ltuBhSYjf",
      "include_colab_link": true
    },
    "kernelspec": {
      "name": "python3",
      "display_name": "Python 3"
    },
    "language_info": {
      "name": "python"
    }
  },
  "cells": [
    {
      "cell_type": "markdown",
      "metadata": {
        "id": "view-in-github",
        "colab_type": "text"
      },
      "source": [
        "<a href=\"https://colab.research.google.com/github/superyin37/leetcode/blob/main/_Leetcode28_Find_the_index_of_the_first_occurrence_in_a_string.ipynb\" target=\"_parent\"><img src=\"https://colab.research.google.com/assets/colab-badge.svg\" alt=\"Open In Colab\"/></a>"
      ]
    },
    {
      "cell_type": "markdown",
      "source": [
        "O(M*N),\n",
        "\n",
        "Can be improved by KMP."
      ],
      "metadata": {
        "id": "ZM9jssEVrZnX"
      }
    },
    {
      "cell_type": "code",
      "execution_count": null,
      "metadata": {
        "id": "KTaTXlBGrGP4"
      },
      "outputs": [],
      "source": [
        "class Solution(object):\n",
        "    def strStr(self, haystack, needle):\n",
        "        \"\"\"\n",
        "        :type haystack: str\n",
        "        :type needle: str\n",
        "        :rtype: int\n",
        "        \"\"\"\n",
        "        i = 0 # check i_th of needle\n",
        "        j = 0 # check j_th of haystack\n",
        "        while(i < len(needle) and j < len(haystack)):\n",
        "            if(haystack[j] == needle[i]):\n",
        "                if(i == (len(needle)-1)):\n",
        "                    return j-len(needle)+1\n",
        "                i = i + 1\n",
        "                j = j + 1\n",
        "                continue\n",
        "            if(i > 0):\n",
        "                j = j - i + 1\n",
        "                i = 0\n",
        "            else:\n",
        "                j = j + 1\n",
        "        return -1\n"
      ]
    }
  ]
}