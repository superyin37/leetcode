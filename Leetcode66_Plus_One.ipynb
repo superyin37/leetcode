{
  "nbformat": 4,
  "nbformat_minor": 0,
  "metadata": {
    "colab": {
      "provenance": [],
      "authorship_tag": "ABX9TyPFNL7Mcpb5bmJDN80QlaRf",
      "include_colab_link": true
    },
    "kernelspec": {
      "name": "python3",
      "display_name": "Python 3"
    },
    "language_info": {
      "name": "python"
    }
  },
  "cells": [
    {
      "cell_type": "markdown",
      "metadata": {
        "id": "view-in-github",
        "colab_type": "text"
      },
      "source": [
        "<a href=\"https://colab.research.google.com/github/superyin37/leetcode/blob/main/Leetcode66_Plus_One.ipynb\" target=\"_parent\"><img src=\"https://colab.research.google.com/assets/colab-badge.svg\" alt=\"Open In Colab\"/></a>"
      ]
    },
    {
      "cell_type": "code",
      "execution_count": null,
      "metadata": {
        "id": "M5OKbCRqeMsx"
      },
      "outputs": [],
      "source": [
        "class Solution:\n",
        "    def plusOne(self, digits: List[int]) -> List[int]:\n",
        "        last = len(digits) - 1\n",
        "        while(last >= 0):\n",
        "            if(digits[last] != 9):\n",
        "                digits[last] = digits[last] + 1\n",
        "                return digits\n",
        "            else:\n",
        "                digits[last] = 0\n",
        "                last = last - 1\n",
        "        digits.insert(0,1)\n",
        "        return digits"
      ]
    }
  ]
}