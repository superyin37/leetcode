{
  "nbformat": 4,
  "nbformat_minor": 0,
  "metadata": {
    "colab": {
      "provenance": [],
      "authorship_tag": "ABX9TyOFZq65KttfXszybSCDi72k",
      "include_colab_link": true
    },
    "kernelspec": {
      "name": "python3",
      "display_name": "Python 3"
    },
    "language_info": {
      "name": "python"
    }
  },
  "cells": [
    {
      "cell_type": "markdown",
      "metadata": {
        "id": "view-in-github",
        "colab_type": "text"
      },
      "source": [
        "<a href=\"https://colab.research.google.com/github/superyin37/leetcode/blob/main/Leetcode202_Happy_Number.ipynb\" target=\"_parent\"><img src=\"https://colab.research.google.com/assets/colab-badge.svg\" alt=\"Open In Colab\"/></a>"
      ]
    },
    {
      "cell_type": "code",
      "execution_count": null,
      "metadata": {
        "id": "cv1e87PirzxB"
      },
      "outputs": [],
      "source": [
        "# Solution1: Set\n",
        "# Time: O(klog(n))\n",
        "# Space: O(k)\n",
        "\n",
        "'''\n",
        "class Solution:\n",
        "    def isHappy(self, n: int) -> bool:\n",
        "        results = set()\n",
        "        while(True):\n",
        "            res = 0\n",
        "            while(n != 0):\n",
        "                res += (n % 10) ** 2\n",
        "                n //= 10\n",
        "            if res == 1: return True\n",
        "            if res in results: return False\n",
        "            results.add(res)\n",
        "            n = res\n",
        "'''\n",
        "\n",
        "# Solution2: Floyd's Tortois\n",
        "# Time: O(klog(n))\n",
        "# Space: O(1)\n",
        "\n",
        "class Solution:\n",
        "    def isHappy(self, n: int) -> bool:\n",
        "        def nextnum(n):\n",
        "            nextnum = 0\n",
        "            while(n != 0):\n",
        "                nextnum += (n % 10) ** 2\n",
        "                n //= 10\n",
        "            return nextnum\n",
        "        slow = n\n",
        "        fast = nextnum(n)\n",
        "        while(True):\n",
        "            if fast == 1: return True\n",
        "            if slow == fast: return False\n",
        "            slow = nextnum(slow)\n",
        "            fast = nextnum(nextnum(fast))"
      ]
    }
  ]
}