{
  "nbformat": 4,
  "nbformat_minor": 0,
  "metadata": {
    "colab": {
      "provenance": [],
      "authorship_tag": "ABX9TyOHh0jnYFaDKtzN1wb6XZTf",
      "include_colab_link": true
    },
    "kernelspec": {
      "name": "python3",
      "display_name": "Python 3"
    },
    "language_info": {
      "name": "python"
    }
  },
  "cells": [
    {
      "cell_type": "markdown",
      "metadata": {
        "id": "view-in-github",
        "colab_type": "text"
      },
      "source": [
        "<a href=\"https://colab.research.google.com/github/superyin37/leetcode/blob/main/Leetcode108_Convert_Sorted_Array_to_Binary_Search_Tree.ipynb\" target=\"_parent\"><img src=\"https://colab.research.google.com/assets/colab-badge.svg\" alt=\"Open In Colab\"/></a>"
      ]
    },
    {
      "cell_type": "code",
      "execution_count": null,
      "metadata": {
        "id": "DBpsimLCyA0J"
      },
      "outputs": [],
      "source": [
        "# Definition for a binary tree node.\n",
        "# class TreeNode:\n",
        "#     def __init__(self, val=0, left=None, right=None):\n",
        "#         self.val = val\n",
        "#         self.left = left\n",
        "#         self.right = right\n",
        "\n",
        "#　 Intuition\n",
        "# To maintain balance, we should always pick the middle element of the current subarray as the root node. This ensures that the left and right subtrees are roughly equal in size.\n",
        "class Solution:\n",
        "    def sortedArrayToBST(self, nums: List[int]) -> Optional['TreeNode']:\n",
        "        if not nums:\n",
        "            return None\n",
        "        mid = len(nums) // 2\n",
        "        root = TreeNode(nums[mid])\n",
        "        root.left = self.sortedArrayToBST(nums[:mid])\n",
        "        root.right = self.sortedArrayToBST(nums[mid + 1:])\n",
        "        return root\n",
        "\n",
        "\n"
      ]
    }
  ]
}