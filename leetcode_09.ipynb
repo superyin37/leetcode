{
  "nbformat": 4,
  "nbformat_minor": 0,
  "metadata": {
    "colab": {
      "provenance": [],
      "authorship_tag": "ABX9TyOmpXXuVutvPqnGtztvK97j",
      "include_colab_link": true
    },
    "kernelspec": {
      "name": "python3",
      "display_name": "Python 3"
    },
    "language_info": {
      "name": "python"
    }
  },
  "cells": [
    {
      "cell_type": "markdown",
      "metadata": {
        "id": "view-in-github",
        "colab_type": "text"
      },
      "source": [
        "<a href=\"https://colab.research.google.com/github/superyin37/leetcode/blob/main/leetcode_09.ipynb\" target=\"_parent\"><img src=\"https://colab.research.google.com/assets/colab-badge.svg\" alt=\"Open In Colab\"/></a>"
      ]
    },
    {
      "cell_type": "code",
      "execution_count": 1,
      "metadata": {
        "id": "xJdgcdJ_Wskp"
      },
      "outputs": [],
      "source": [
        "'''\n",
        "class Solution:\n",
        "    def isPalindrome(self, x: int) -> bool:\n",
        "        if x < 0: return False\n",
        "        y = str(x)\n",
        "        print(y)\n",
        "        f = 0\n",
        "        l = len(y) - 1\n",
        "        for i in range(int(len(y)/2)):\n",
        "          if y[f] == y[l]:\n",
        "            f+=1\n",
        "            l-=1\n",
        "          else:\n",
        "            return False\n",
        "        return True\n",
        "'''\n",
        "\n",
        "'''\n",
        "class Solution:\n",
        "    def isPalindrome(self, x: int) -> bool:\n",
        "        if x < 0: return False\n",
        "        y = x\n",
        "        z = 0\n",
        "        while(y > 0):\n",
        "            z  = z * 10 + y % 10\n",
        "            y = int(y / 10)\n",
        "        if (z == x):\n",
        "            return True\n",
        "        else:\n",
        "            return False\n",
        "'''\n",
        "\n",
        "class Solution:\n",
        "    def isPalindrome(self, x: int) -> bool:\n",
        "        if x < 0: return False\n",
        "        if x == 0: return True\n",
        "        if x % 10 == 0: return False\n",
        "        y = 0\n",
        "        while(y * 10 <= x):\n",
        "            y = y * 10 + x % 10\n",
        "            x = int(x / 10)\n",
        "        if (y == x or int(y / 10) == x) : return True\n",
        "        else: return False"
      ]
    },
    {
      "cell_type": "code",
      "source": [
        "s = Solution()\n",
        "s.isPalindrome(121)"
      ],
      "metadata": {
        "colab": {
          "base_uri": "https://localhost:8080/"
        },
        "id": "_7eHFvIecVwA",
        "outputId": "2a5a58cd-9b05-4f7a-eb06-a12a4af5b9e1"
      },
      "execution_count": 2,
      "outputs": [
        {
          "output_type": "execute_result",
          "data": {
            "text/plain": [
              "True"
            ]
          },
          "metadata": {},
          "execution_count": 2
        }
      ]
    },
    {
      "cell_type": "code",
      "source": [],
      "metadata": {
        "id": "I7Ng4UCbcca9"
      },
      "execution_count": null,
      "outputs": []
    }
  ]
}