{
  "nbformat": 4,
  "nbformat_minor": 0,
  "metadata": {
    "colab": {
      "provenance": [],
      "authorship_tag": "ABX9TyNRRpba0rhvpQc0JzY+eh07",
      "include_colab_link": true
    },
    "kernelspec": {
      "name": "python3",
      "display_name": "Python 3"
    },
    "language_info": {
      "name": "python"
    }
  },
  "cells": [
    {
      "cell_type": "markdown",
      "metadata": {
        "id": "view-in-github",
        "colab_type": "text"
      },
      "source": [
        "<a href=\"https://colab.research.google.com/github/superyin37/leetcode/blob/main/Leetcode136_Single_Number.ipynb\" target=\"_parent\"><img src=\"https://colab.research.google.com/assets/colab-badge.svg\" alt=\"Open In Colab\"/></a>"
      ]
    },
    {
      "cell_type": "code",
      "execution_count": null,
      "metadata": {
        "id": "sHKhgRSVvasF"
      },
      "outputs": [],
      "source": [
        "# Solution1: XOR\n",
        "# Note: The XOR operation is both commutative and associative.\n",
        "# e.g. 4^1^2^1^2 = 4^(1^1)^(2^2) = 4^0^0 = 4\n",
        "\n",
        "'''\n",
        "class Solution:\n",
        "    def singleNumber(self, nums: List[int]) -> int:\n",
        "        result = 0\n",
        "        for num in nums:\n",
        "            result ^= num\n",
        "        return result\n",
        "'''\n",
        "\n",
        "# Solution2: set\n",
        "# Note: There are no duplicate elements in a set.\n",
        "'''\n",
        "class Solution:\n",
        "    def singleNumber(self, nums: List[int]) -> int:\n",
        "        result = 2 * sum(set(nums)) - sum(nums)\n",
        "        return result\n",
        "'''\n",
        "\n",
        "\n",
        "# Solution3: hash\n",
        "class Solution:\n",
        "    def singleNumber(self, nums: List[int]) -> int:\n",
        "        hash_table = {}\n",
        "\n",
        "        for num in nums:\n",
        "            if num in hash_table:\n",
        "                hash_table[num] += 1\n",
        "            else:\n",
        "                hash_table[num] = 1\n",
        "\n",
        "        for num in hash_table:\n",
        "            if hash_table[num] == 1:\n",
        "                return num"
      ]
    }
  ]
}