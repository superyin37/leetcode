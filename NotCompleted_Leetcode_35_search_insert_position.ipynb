{
  "nbformat": 4,
  "nbformat_minor": 0,
  "metadata": {
    "colab": {
      "provenance": [],
      "authorship_tag": "ABX9TyP/sUC6BAvmZ8x344AeZmvO",
      "include_colab_link": true
    },
    "kernelspec": {
      "name": "python3",
      "display_name": "Python 3"
    },
    "language_info": {
      "name": "python"
    }
  },
  "cells": [
    {
      "cell_type": "markdown",
      "metadata": {
        "id": "view-in-github",
        "colab_type": "text"
      },
      "source": [
        "<a href=\"https://colab.research.google.com/github/superyin37/leetcode/blob/main/NotCompleted_Leetcode_35_search_insert_position.ipynb\" target=\"_parent\"><img src=\"https://colab.research.google.com/assets/colab-badge.svg\" alt=\"Open In Colab\"/></a>"
      ]
    },
    {
      "cell_type": "code",
      "execution_count": null,
      "metadata": {
        "id": "gx9OD8FhUmou"
      },
      "outputs": [],
      "source": [
        "# O(N) solution\n",
        "\n",
        "'''\n",
        "class Solution(object):\n",
        "    def searchInsert(self, nums, target):\n",
        "        \"\"\"\n",
        "        :type nums: List[int]\n",
        "        :type target: int\n",
        "        :rtype: int\n",
        "        \"\"\"\n",
        "        if (nums[0] > target): return 0\n",
        "        for i in range(len(nums)):\n",
        "            if(nums[i] == target): return i\n",
        "            if(i == len(nums) - 1): return i + 1\n",
        "            if(nums[i] < target and nums[i+1] > target):\n",
        "                return i + 1\n",
        "            else:\n",
        "                i = i + 1\n",
        "'''\n",
        "\n",
        "# O(log(N)) solution\n",
        "class Solution(object):\n",
        "    def searchInsert(self, nums, target):\n",
        "        \"\"\"\n",
        "        :type nums: List[int]\n",
        "        :type target: int\n",
        "        :rtype: int\n",
        "        \"\"\"\n",
        "    while()"
      ]
    }
  ]
}