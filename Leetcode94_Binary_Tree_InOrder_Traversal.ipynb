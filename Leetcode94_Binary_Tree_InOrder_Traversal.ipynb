{
  "nbformat": 4,
  "nbformat_minor": 0,
  "metadata": {
    "colab": {
      "provenance": [],
      "authorship_tag": "ABX9TyModMvRcdiohG9wk8QIsorM",
      "include_colab_link": true
    },
    "kernelspec": {
      "name": "python3",
      "display_name": "Python 3"
    },
    "language_info": {
      "name": "python"
    }
  },
  "cells": [
    {
      "cell_type": "markdown",
      "metadata": {
        "id": "view-in-github",
        "colab_type": "text"
      },
      "source": [
        "<a href=\"https://colab.research.google.com/github/superyin37/leetcode/blob/main/Leetcode94_Binary_Tree_InOrder_Traversal.ipynb\" target=\"_parent\"><img src=\"https://colab.research.google.com/assets/colab-badge.svg\" alt=\"Open In Colab\"/></a>"
      ]
    },
    {
      "cell_type": "code",
      "execution_count": null,
      "metadata": {
        "id": "b7XowoYbHgVN"
      },
      "outputs": [],
      "source": [
        "# Definition for a binary tree node.\n",
        "# class TreeNode:\n",
        "#     def __init__(self, val=0, left=None, right=None):\n",
        "#         self.val = val\n",
        "#         self.left = left\n",
        "#         self.right = right\n",
        "\n",
        "# recursion O(n)\n",
        "'''\n",
        "class Solution:\n",
        "    def inorderTraversal(self, root: Optional[TreeNode]) -> List[int]:\n",
        "        if root is None: return []\n",
        "        l = []\n",
        "        def recursion(root):\n",
        "            if root == None: return\n",
        "            recursion(root.left)\n",
        "            l.append(root.val)\n",
        "            recursion(root.right)\n",
        "            return l\n",
        "        return recursion(root)\n",
        "'''\n",
        "\n",
        "# stack O(n)\n",
        "class Solution:\n",
        "    def inorderTraversal(self, root: Optional[TreeNode]) -> List[int]:\n",
        "        if root == None: return []\n",
        "        c = root\n",
        "        stack = []\n",
        "        res = []\n",
        "        while(c != None or stack != []):\n",
        "            if(c != None):\n",
        "                stack.append(c)\n",
        "                c = c.left\n",
        "            else:\n",
        "                c = stack.pop()\n",
        "                res.append(c.val)\n",
        "                c = c.right\n",
        "        return res"
      ]
    }
  ]
}