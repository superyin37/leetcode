{
  "nbformat": 4,
  "nbformat_minor": 0,
  "metadata": {
    "colab": {
      "provenance": [],
      "authorship_tag": "ABX9TyN+4KU2azhSPHD/QPfvzk8B",
      "include_colab_link": true
    },
    "kernelspec": {
      "name": "python3",
      "display_name": "Python 3"
    },
    "language_info": {
      "name": "python"
    }
  },
  "cells": [
    {
      "cell_type": "markdown",
      "metadata": {
        "id": "view-in-github",
        "colab_type": "text"
      },
      "source": [
        "<a href=\"https://colab.research.google.com/github/superyin37/leetcode/blob/main/Leetcode141_Linked_List_Cycle.ipynb\" target=\"_parent\"><img src=\"https://colab.research.google.com/assets/colab-badge.svg\" alt=\"Open In Colab\"/></a>"
      ]
    },
    {
      "cell_type": "code",
      "execution_count": null,
      "metadata": {
        "id": "yYlNV66kpx8S"
      },
      "outputs": [],
      "source": [
        "# Definition for singly-linked list.\n",
        "# class ListNode:\n",
        "#     def __init__(self, x):\n",
        "#         self.val = x\n",
        "#         self.next = None\n",
        "\n",
        "# slow moves 1 step at one time\n",
        "# fast moves 2 step at one time\n",
        "# if cycle: fast meets slow\n",
        "# O(n)\n",
        "\n",
        "class Solution:\n",
        "    def hasCycle(self, head: Optional[ListNode]) -> bool:\n",
        "        if head == None or head.next == None: return False\n",
        "        slow = head.next\n",
        "        fast = head.next.next\n",
        "        while(1):\n",
        "            if slow == None or fast == None or slow.next == None or fast.next == None: return False\n",
        "            if slow == fast: return True\n",
        "            slow = slow.next\n",
        "            fast = fast.next.next\n",
        ""
      ]
    }
  ]
}