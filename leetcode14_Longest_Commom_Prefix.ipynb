{
  "nbformat": 4,
  "nbformat_minor": 0,
  "metadata": {
    "colab": {
      "provenance": [],
      "authorship_tag": "ABX9TyPWWVdpooVWoQd40qEVMfpu",
      "include_colab_link": true
    },
    "kernelspec": {
      "name": "python3",
      "display_name": "Python 3"
    },
    "language_info": {
      "name": "python"
    }
  },
  "cells": [
    {
      "cell_type": "markdown",
      "metadata": {
        "id": "view-in-github",
        "colab_type": "text"
      },
      "source": [
        "<a href=\"https://colab.research.google.com/github/superyin37/leetcode/blob/main/leetcode14_Longest_Commom_Prefix.ipynb\" target=\"_parent\"><img src=\"https://colab.research.google.com/assets/colab-badge.svg\" alt=\"Open In Colab\"/></a>"
      ]
    },
    {
      "cell_type": "code",
      "execution_count": 3,
      "metadata": {
        "id": "at4mEprdmL4B"
      },
      "outputs": [],
      "source": [
        "from typing import List\n",
        "class Solution:\n",
        "    def longestCommonPrefix(self, strs: List[str]) -> str:\n",
        "        t = 0\n",
        "        flag = 0\n",
        "        while(True):\n",
        "            for i in range(0,len(strs)):\n",
        "                if t > len(strs[i])-1: flag = 1;break\n",
        "                if i == 0: continue\n",
        "                if strs[i][t] != strs[i-1][t]: flag = 1;break\n",
        "            if flag == 1: break\n",
        "            t += 1\n",
        "        print(strs[0][:t])"
      ]
    },
    {
      "cell_type": "code",
      "source": [
        "Solution().longestCommonPrefix([\"flower\",\"flow\",\"flight\"])"
      ],
      "metadata": {
        "colab": {
          "base_uri": "https://localhost:8080/"
        },
        "id": "QERdX9nPnT22",
        "outputId": "6e558fd6-e1f5-452b-ab50-bb8dda76133f"
      },
      "execution_count": 4,
      "outputs": [
        {
          "output_type": "stream",
          "name": "stdout",
          "text": [
            "fl\n"
          ]
        }
      ]
    },
    {
      "cell_type": "code",
      "source": [],
      "metadata": {
        "id": "mPKx3ZfqnWDz"
      },
      "execution_count": null,
      "outputs": []
    }
  ]
}