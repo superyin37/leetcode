{
  "nbformat": 4,
  "nbformat_minor": 0,
  "metadata": {
    "colab": {
      "provenance": [],
      "authorship_tag": "ABX9TyNWHfqQ1KnJD75YvzDHyiTG",
      "include_colab_link": true
    },
    "kernelspec": {
      "name": "python3",
      "display_name": "Python 3"
    },
    "language_info": {
      "name": "python"
    }
  },
  "cells": [
    {
      "cell_type": "markdown",
      "metadata": {
        "id": "view-in-github",
        "colab_type": "text"
      },
      "source": [
        "<a href=\"https://colab.research.google.com/github/superyin37/leetcode/blob/main/Leetcode219_Contains_Duplicate.ipynb\" target=\"_parent\"><img src=\"https://colab.research.google.com/assets/colab-badge.svg\" alt=\"Open In Colab\"/></a>"
      ]
    },
    {
      "cell_type": "code",
      "execution_count": null,
      "metadata": {
        "id": "DSOreUglU78w"
      },
      "outputs": [],
      "source": [
        "# 方法1：使用字典记录每个数字的出现位置，计算上一次出现的距离\n",
        "# Time: O(n)\n",
        "# Space: O(n)\n",
        "'''\n",
        "class Solution:\n",
        "    def containsNearbyDuplicate(self, nums: List[int], k: int) -> bool:\n",
        "        dic = {}\n",
        "        for i in range(len(nums)):\n",
        "            if nums[i] in dic:\n",
        "                if i - dic[nums[i]] <= k: return True\n",
        "            dic[nums[i]] = i\n",
        "        return False\n",
        "'''\n",
        "\n",
        "\n",
        "# 方法2：维护一个长度为k的滑动窗口，查找下一个数字是否在窗口中。\n",
        "# Time: O(n)\n",
        "# Space: O(min(n, k))\n",
        "\n",
        "class Solution:\n",
        "    def containsNearbyDuplicate(self, nums: List[int], k: int) -> bool:\n",
        "        win = set()\n",
        "        if k >= len(nums):\n",
        "            for i in nums:\n",
        "                if i in win: return True\n",
        "                else: win.add(i)\n",
        "            return False\n",
        "        for i in range(k):\n",
        "            if nums[i] in win: return True\n",
        "            win.add(nums[i])\n",
        "        for i in range(k, len(nums)):\n",
        "            if nums[i] in win: return True\n",
        "            else:\n",
        "                win.add(nums[i])\n",
        "                win.remove(nums[i-k])\n",
        "        return False\n",
        "\n",
        "\n",
        "\n"
      ]
    }
  ]
}