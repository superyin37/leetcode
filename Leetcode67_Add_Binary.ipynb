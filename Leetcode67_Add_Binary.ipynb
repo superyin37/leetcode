{
  "nbformat": 4,
  "nbformat_minor": 0,
  "metadata": {
    "colab": {
      "provenance": [],
      "authorship_tag": "ABX9TyM7T0eszfqWNMgo9QjF0gAI",
      "include_colab_link": true
    },
    "kernelspec": {
      "name": "python3",
      "display_name": "Python 3"
    },
    "language_info": {
      "name": "python"
    }
  },
  "cells": [
    {
      "cell_type": "markdown",
      "metadata": {
        "id": "view-in-github",
        "colab_type": "text"
      },
      "source": [
        "<a href=\"https://colab.research.google.com/github/superyin37/leetcode/blob/main/Leetcode67_Add_Binary.ipynb\" target=\"_parent\"><img src=\"https://colab.research.google.com/assets/colab-badge.svg\" alt=\"Open In Colab\"/></a>"
      ]
    },
    {
      "cell_type": "code",
      "execution_count": null,
      "metadata": {
        "id": "M5OKbCRqeMsx"
      },
      "outputs": [],
      "source": [
        "class Solution:\n",
        "    def addBinary(self, a: str, b: str) -> str:\n",
        "        i = len(a) - 1\n",
        "        j = len(b) - 1\n",
        "        s = 0\n",
        "        rem = 0 # record whether s>=2(which means an additional 1 should be added into the next sum)\n",
        "        res = []\n",
        "        while(i >= 0 and j >= 0):\n",
        "            s = int(a[i]) + int(b[j]) + rem\n",
        "            res.insert(0,f\"{int(s % 2)}\")\n",
        "            # print(res)\n",
        "            rem = int(s / 2)\n",
        "            i = i - 1\n",
        "            j = j - 1\n",
        "        while(i >= 0):\n",
        "            s = int(a[i]) + rem\n",
        "            res.insert(0,f\"{int(s % 2)}\")\n",
        "            rem = int(s / 2)\n",
        "            i = i - 1\n",
        "        while(j >= 0):\n",
        "            s = int(b[j]) + rem\n",
        "            res.insert(0,f\"{int(s % 2)}\")\n",
        "            rem = int(s / 2)\n",
        "            j = j - 1\n",
        "        #print(rem)\n",
        "        if(rem == 1):\n",
        "            res.insert(0,\"1\")\n",
        "        return \"\".join(res)"
      ]
    }
  ]
}