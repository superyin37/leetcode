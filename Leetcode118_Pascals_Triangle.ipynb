{
  "nbformat": 4,
  "nbformat_minor": 0,
  "metadata": {
    "colab": {
      "provenance": [],
      "authorship_tag": "ABX9TyNRmKSedKTCzs33t+BLq7rk",
      "include_colab_link": true
    },
    "kernelspec": {
      "name": "python3",
      "display_name": "Python 3"
    },
    "language_info": {
      "name": "python"
    }
  },
  "cells": [
    {
      "cell_type": "markdown",
      "metadata": {
        "id": "view-in-github",
        "colab_type": "text"
      },
      "source": [
        "<a href=\"https://colab.research.google.com/github/superyin37/leetcode/blob/main/Leetcode118_Pascals_Triangle.ipynb\" target=\"_parent\"><img src=\"https://colab.research.google.com/assets/colab-badge.svg\" alt=\"Open In Colab\"/></a>"
      ]
    },
    {
      "cell_type": "code",
      "execution_count": null,
      "metadata": {
        "id": "4IVByRJFP3ws"
      },
      "outputs": [],
      "source": [
        "# O(N^2)\n",
        "\n",
        "class Solution:\n",
        "    def generate(self, numRows: int) -> List[List[int]]:\n",
        "        output = []\n",
        "        for row in range(1, numRows + 1):\n",
        "            row_list = []\n",
        "            for i in range(row):\n",
        "                if i == 0 or i == row-1: row_list.append(1)\n",
        "                else:\n",
        "                    row_list.append(output[row-2][i-1] + output[row-2][i])\n",
        "            output.append(row_list)\n",
        "        return output"
      ]
    }
  ]
}