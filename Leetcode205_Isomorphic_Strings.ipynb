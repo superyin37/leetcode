{
  "nbformat": 4,
  "nbformat_minor": 0,
  "metadata": {
    "colab": {
      "provenance": [],
      "authorship_tag": "ABX9TyMLJUaRfT02BtqGO3ZnhIJd",
      "include_colab_link": true
    },
    "kernelspec": {
      "name": "python3",
      "display_name": "Python 3"
    },
    "language_info": {
      "name": "python"
    }
  },
  "cells": [
    {
      "cell_type": "markdown",
      "metadata": {
        "id": "view-in-github",
        "colab_type": "text"
      },
      "source": [
        "<a href=\"https://colab.research.google.com/github/superyin37/leetcode/blob/main/Leetcode205_Isomorphic_Strings.ipynb\" target=\"_parent\"><img src=\"https://colab.research.google.com/assets/colab-badge.svg\" alt=\"Open In Colab\"/></a>"
      ]
    },
    {
      "cell_type": "code",
      "execution_count": null,
      "metadata": {
        "id": "7FPI5KHrae6l"
      },
      "outputs": [],
      "source": [
        "# dictionary\n",
        "\n",
        "class Solution:\n",
        "    def isIsomorphic(self, s: str, t: str) -> bool:\n",
        "        dic_s = {}\n",
        "        dic_t = {}\n",
        "        if len(s) != len(t): return False\n",
        "        for i in range(len(s)):\n",
        "            if s[i] in dic_s:\n",
        "                if dic_s[s[i]] != t[i]:\n",
        "                    return False\n",
        "            if t[i] in dic_t:\n",
        "                if dic_t[t[i]] != s[i]:\n",
        "                    return False\n",
        "            dic_s[s[i]] = t[i]\n",
        "            dic_t[t[i]] = s[i]\n",
        "        return True\n",
        ""
      ]
    }
  ]
}