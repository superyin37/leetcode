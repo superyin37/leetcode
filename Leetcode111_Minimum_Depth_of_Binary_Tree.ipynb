{
  "nbformat": 4,
  "nbformat_minor": 0,
  "metadata": {
    "colab": {
      "provenance": [],
      "authorship_tag": "ABX9TyO1j4/WgdUPt7Iavvga67UA",
      "include_colab_link": true
    },
    "kernelspec": {
      "name": "python3",
      "display_name": "Python 3"
    },
    "language_info": {
      "name": "python"
    }
  },
  "cells": [
    {
      "cell_type": "markdown",
      "metadata": {
        "id": "view-in-github",
        "colab_type": "text"
      },
      "source": [
        "<a href=\"https://colab.research.google.com/github/superyin37/leetcode/blob/main/Leetcode111_Minimum_Depth_of_Binary_Tree.ipynb\" target=\"_parent\"><img src=\"https://colab.research.google.com/assets/colab-badge.svg\" alt=\"Open In Colab\"/></a>"
      ]
    },
    {
      "cell_type": "code",
      "execution_count": null,
      "metadata": {
        "id": "6CEiHmj-DshQ"
      },
      "outputs": [],
      "source": [
        "# Definition for a binary tree node.\n",
        "# class TreeNode:\n",
        "#     def __init__(self, val=0, left=None, right=None):\n",
        "#         self.val = val\n",
        "#         self.left = left\n",
        "#         self.right = right\n",
        "\n",
        "# solution with BFS(return the DPETH of FIRST LEAF)\n",
        "# O(N)\n",
        "class Solution:\n",
        "    def minDepth(self, root: Optional[TreeNode]) -> int:\n",
        "        if not root: return 0\n",
        "        q = []\n",
        "        q.append((root, 1))\n",
        "        while(q):\n",
        "            node, depth = q.pop(0)\n",
        "            if not node.left and not node.right:\n",
        "                return depth\n",
        "            if node.left:\n",
        "                q.append((node.left, depth + 1))\n",
        "            if node.right:\n",
        "                q.append((node.right, depth + 1))\n",
        "\n",
        "'''\n",
        "# solution with recurssion\n",
        "class Solution:\n",
        "    def minDepth(self, root: Optional[TreeNode]) -> int:\n",
        "        if root == None: return 0\n",
        "        if root.left == None and root.right == None: return 1\n",
        "        if root.left == None: return self.minDepth(root.right) + 1\n",
        "        if root.right == None: return self.minDepth(root.left) + 1\n",
        "        return(min(self.minDepth(root.left), self.minDepth(root.right)) + 1)\\\n",
        "'''"
      ]
    }
  ]
}