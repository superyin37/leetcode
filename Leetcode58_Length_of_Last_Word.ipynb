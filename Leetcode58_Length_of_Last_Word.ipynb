{
  "nbformat": 4,
  "nbformat_minor": 0,
  "metadata": {
    "colab": {
      "provenance": [],
      "authorship_tag": "ABX9TyMexlTjHxkncebhxtuXIck2",
      "include_colab_link": true
    },
    "kernelspec": {
      "name": "python3",
      "display_name": "Python 3"
    },
    "language_info": {
      "name": "python"
    }
  },
  "cells": [
    {
      "cell_type": "markdown",
      "metadata": {
        "id": "view-in-github",
        "colab_type": "text"
      },
      "source": [
        "<a href=\"https://colab.research.google.com/github/superyin37/leetcode/blob/main/Leetcode58_Length_of_Last_Word.ipynb\" target=\"_parent\"><img src=\"https://colab.research.google.com/assets/colab-badge.svg\" alt=\"Open In Colab\"/></a>"
      ]
    },
    {
      "cell_type": "code",
      "execution_count": 1,
      "metadata": {
        "id": "fynw-3rhF1aw"
      },
      "outputs": [],
      "source": [
        "class Solution:\n",
        "    def lengthOfLastWord(self, s: str) -> int:\n",
        "        i = len(s)-1\n",
        "        j = 0\n",
        "        while(s[i] == \" \"):\n",
        "            i = i - 1\n",
        "        while(s[i] != \" \" and i >= 0):\n",
        "            i = i - 1\n",
        "            j = j + 1\n",
        "        return j"
      ]
    }
  ]
}