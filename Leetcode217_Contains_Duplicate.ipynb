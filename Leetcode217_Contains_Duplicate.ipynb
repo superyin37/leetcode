{
  "nbformat": 4,
  "nbformat_minor": 0,
  "metadata": {
    "colab": {
      "provenance": [],
      "authorship_tag": "ABX9TyO0iogSma63X0RZmrwaY4Gj",
      "include_colab_link": true
    },
    "kernelspec": {
      "name": "python3",
      "display_name": "Python 3"
    },
    "language_info": {
      "name": "python"
    }
  },
  "cells": [
    {
      "cell_type": "markdown",
      "metadata": {
        "id": "view-in-github",
        "colab_type": "text"
      },
      "source": [
        "<a href=\"https://colab.research.google.com/github/superyin37/leetcode/blob/main/Leetcode217_Contains_Duplicate.ipynb\" target=\"_parent\"><img src=\"https://colab.research.google.com/assets/colab-badge.svg\" alt=\"Open In Colab\"/></a>"
      ]
    },
    {
      "cell_type": "code",
      "execution_count": null,
      "metadata": {
        "id": "MGiFXaO0YhxO"
      },
      "outputs": [],
      "source": [
        "# Solution: Hash Set\n",
        "# Time C: O(n)\n",
        "# Space C: O(n)\n",
        "\n",
        "class Solution:\n",
        "    def containsDuplicate(self, nums: List[int]) -> bool:\n",
        "        dic = set()\n",
        "        for i in nums:\n",
        "            if i in dic:\n",
        "                return True\n",
        "            else:\n",
        "                dic.add(i)\n",
        "        return False\n",
        ""
      ]
    }
  ]
}