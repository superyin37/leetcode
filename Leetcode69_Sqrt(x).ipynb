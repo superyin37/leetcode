{
  "nbformat": 4,
  "nbformat_minor": 0,
  "metadata": {
    "colab": {
      "provenance": [],
      "authorship_tag": "ABX9TyPWZYF6lsEHU72sIFRkxwoz",
      "include_colab_link": true
    },
    "kernelspec": {
      "name": "python3",
      "display_name": "Python 3"
    },
    "language_info": {
      "name": "python"
    }
  },
  "cells": [
    {
      "cell_type": "markdown",
      "metadata": {
        "id": "view-in-github",
        "colab_type": "text"
      },
      "source": [
        "<a href=\"https://colab.research.google.com/github/superyin37/leetcode/blob/main/Leetcode69_Sqrt(x).ipynb\" target=\"_parent\"><img src=\"https://colab.research.google.com/assets/colab-badge.svg\" alt=\"Open In Colab\"/></a>"
      ]
    },
    {
      "cell_type": "code",
      "execution_count": null,
      "metadata": {
        "id": "0R3j0jjZWSK2"
      },
      "outputs": [],
      "source": [
        "# Binary search -O(log(n))\n",
        "class Solution:\n",
        "    def mySqrt(self, x: int) -> int:\n",
        "        if x == 0 or x == 1: return x\n",
        "        start = 0\n",
        "        end = x\n",
        "        mid = int((start + end) / 2)\n",
        "        while(start < end):\n",
        "            if (mid * mid <= x and (mid + 1) * (mid + 1) > x):\n",
        "                return mid\n",
        "            if(mid * mid > x):\n",
        "                end = mid\n",
        "                mid = int((start + end) / 2)\n",
        "            else:\n",
        "                start = mid\n",
        "                mid = int((start + end) / 2)\n",
        "\n",
        "\n",
        "# Traversal -O(n)\n",
        "'''\n",
        "class Solution:\n",
        "    def mySqrt(self, x: int) -> int:\n",
        "        for i in range(x+1):\n",
        "            if i * i <= x and ((i + 1)*(i + 1 )) > x:\n",
        "                return i\n",
        "'''"
      ]
    }
  ]
}