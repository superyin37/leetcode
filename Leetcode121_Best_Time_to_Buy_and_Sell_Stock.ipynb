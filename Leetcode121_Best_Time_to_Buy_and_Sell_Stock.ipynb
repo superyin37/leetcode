{
  "nbformat": 4,
  "nbformat_minor": 0,
  "metadata": {
    "colab": {
      "provenance": [],
      "authorship_tag": "ABX9TyOzd9LjFaYeKfAgnoy9k8RD",
      "include_colab_link": true
    },
    "kernelspec": {
      "name": "python3",
      "display_name": "Python 3"
    },
    "language_info": {
      "name": "python"
    }
  },
  "cells": [
    {
      "cell_type": "markdown",
      "metadata": {
        "id": "view-in-github",
        "colab_type": "text"
      },
      "source": [
        "<a href=\"https://colab.research.google.com/github/superyin37/leetcode/blob/main/Leetcode121_Best_Time_to_Buy_and_Sell_Stock.ipynb\" target=\"_parent\"><img src=\"https://colab.research.google.com/assets/colab-badge.svg\" alt=\"Open In Colab\"/></a>"
      ]
    },
    {
      "cell_type": "code",
      "execution_count": null,
      "metadata": {
        "id": "4IVByRJFP3ws"
      },
      "outputs": [],
      "source": [
        "# O(N^2)\n",
        "\n",
        "'''\n",
        "class Solution:\n",
        "    def maxProfit(self, prices: List[int]) -> int:\n",
        "        left, right = 0, 1\n",
        "        best = 0\n",
        "        if len(prices)==1: return 0\n",
        "        while(True):\n",
        "            if (prices[right] - prices[left]) > best:\n",
        "                best = prices[right] - prices[left]\n",
        "            if right == len(prices)-1:\n",
        "                left += 1\n",
        "                right = left\n",
        "            if left == len(prices)-1: return best\n",
        "            right += 1\n",
        "'''\n",
        "\n",
        "# O(N)\n",
        "# Record \"min price so far\" and compare it with current price\n",
        "\n",
        "class Solution:\n",
        "    def maxProfit(self, prices: List[int]) -> int:\n",
        "        min_price = prices[0]\n",
        "        max_profit = 0\n",
        "        for price in prices:\n",
        "            if price < min_price:\n",
        "                min_price = price\n",
        "            if price - min_price > max_profit:\n",
        "                max_profit = price - min_price\n",
        "        return max_profit\n",
        ""
      ]
    }
  ]
}