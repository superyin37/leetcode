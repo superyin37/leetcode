{
  "nbformat": 4,
  "nbformat_minor": 0,
  "metadata": {
    "colab": {
      "provenance": [],
      "authorship_tag": "ABX9TyOqU9wvjCuK5yEcieLnheOQ",
      "include_colab_link": true
    },
    "kernelspec": {
      "name": "python3",
      "display_name": "Python 3"
    },
    "language_info": {
      "name": "python"
    }
  },
  "cells": [
    {
      "cell_type": "markdown",
      "metadata": {
        "id": "view-in-github",
        "colab_type": "text"
      },
      "source": [
        "<a href=\"https://colab.research.google.com/github/superyin37/leetcode/blob/main/Leetcode21_Merge_Two_Sorted_Lists.ipynb\" target=\"_parent\"><img src=\"https://colab.research.google.com/assets/colab-badge.svg\" alt=\"Open In Colab\"/></a>"
      ]
    },
    {
      "cell_type": "code",
      "execution_count": 1,
      "metadata": {
        "id": "QaqebV3F5ZOu"
      },
      "outputs": [],
      "source": [
        "# Definition for singly-linked list.\n",
        "# class ListNode(object):\n",
        "#     def __init__(self, val=0, next=None):\n",
        "#         self.val = val\n",
        "#         self.next = next\n",
        "class Solution(object):\n",
        "    def mergeTwoLists(self, list1, list2):\n",
        "        \"\"\"\n",
        "        :type list1: Optional[ListNode]\n",
        "        :type list2: Optional[ListNode]\n",
        "        :rtype: Optional[ListNode]\n",
        "        \"\"\"\n",
        "        start = ListNode()\n",
        "        tmp = ListNode()\n",
        "        n1 = list1\n",
        "        n2 = list2\n",
        "        if (n1 == None):\n",
        "            return n2\n",
        "        if(n2 == None):\n",
        "            return n1\n",
        "        if n1.val <= n2.val:\n",
        "            start = n1\n",
        "            tmp = n1\n",
        "            n1 = n1.next\n",
        "        else:\n",
        "            start = n2\n",
        "            tmp = n2\n",
        "            n2 = n2.next\n",
        "        while(n1 != None and n2 != None):\n",
        "            if n1.val <= n2.val:\n",
        "                tmp.next = n1\n",
        "                tmp = tmp.next\n",
        "                n1 = n1.next\n",
        "            else:\n",
        "                tmp.next = n2\n",
        "                tmp = tmp.next\n",
        "                n2 = n2.next\n",
        "        if(n1 == None and n2 == None):\n",
        "            return start\n",
        "        if(n1 != None):\n",
        "            tmp.next = n1\n",
        "        else:\n",
        "            tmp.next = n2\n",
        "        return start\n",
        "\n",
        ""
      ]
    },
    {
      "cell_type": "code",
      "source": [],
      "metadata": {
        "id": "7a_VlZqs5oY8"
      },
      "execution_count": null,
      "outputs": []
    }
  ]
}