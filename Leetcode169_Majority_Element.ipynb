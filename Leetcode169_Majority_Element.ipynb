{
  "nbformat": 4,
  "nbformat_minor": 0,
  "metadata": {
    "colab": {
      "provenance": [],
      "authorship_tag": "ABX9TyN9x5Z/ZCn2IMevXEm0VfUQ",
      "include_colab_link": true
    },
    "kernelspec": {
      "name": "python3",
      "display_name": "Python 3"
    },
    "language_info": {
      "name": "python"
    }
  },
  "cells": [
    {
      "cell_type": "markdown",
      "metadata": {
        "id": "view-in-github",
        "colab_type": "text"
      },
      "source": [
        "<a href=\"https://colab.research.google.com/github/superyin37/leetcode/blob/main/Leetcode169_Majority_Element.ipynb\" target=\"_parent\"><img src=\"https://colab.research.google.com/assets/colab-badge.svg\" alt=\"Open In Colab\"/></a>"
      ]
    },
    {
      "cell_type": "code",
      "execution_count": null,
      "metadata": {
        "id": "N-p-_nGDzgw5"
      },
      "outputs": [],
      "source": [
        "'''\n",
        "# Solution1: Boyer-Moore Majority Voting Algorithm\n",
        "# Time: O(N)\n",
        "# Space: O(N)\n",
        "\n",
        "class Solution:\n",
        "    def majorityElement(self, nums: List[int]) -> int:\n",
        "        major = 0\n",
        "        cnt = 0\n",
        "        for x in nums:\n",
        "            if cnt == 0:\n",
        "                major = x\n",
        "                cnt += 1\n",
        "            elif x == major: cnt += 1\n",
        "            else: cnt -= 1\n",
        "        return major\n",
        "'''\n",
        "\n",
        "'''\n",
        "# Solution2: Hash\n",
        "# Time: O(N)\n",
        "# Space: O(N)\n",
        "\n",
        "class Solution:\n",
        "    def majorityElement(self, nums: List[int]) -> int:\n",
        "        count_dict = {}\n",
        "        max_count = len(nums) // 2\n",
        "\n",
        "        for num in nums:\n",
        "            if num in count_dict:\n",
        "                count_dict[num] += 1\n",
        "            else:\n",
        "                count_dict[num] = 1\n",
        "            if count_dict[num] > max_count: return num\n",
        "'''\n",
        "# Solution3: Sort: The number in the middle in the list after sorting must be the goal.\n",
        "# Time: O(Nlog(N))\n",
        "# Space: O(1)\n",
        "\n",
        "class Solution:\n",
        "    def majorityElement(self, nums: List[int]) -> int:\n",
        "        nums.sort()\n",
        "        return nums[len(nums)//2]\n"
      ]
    }
  ]
}