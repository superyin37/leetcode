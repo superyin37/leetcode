{
  "nbformat": 4,
  "nbformat_minor": 0,
  "metadata": {
    "colab": {
      "provenance": [],
      "authorship_tag": "ABX9TyM2pTdPj8xQ6WcAQ+G1HLI9",
      "include_colab_link": true
    },
    "kernelspec": {
      "name": "python3",
      "display_name": "Python 3"
    },
    "language_info": {
      "name": "python"
    }
  },
  "cells": [
    {
      "cell_type": "markdown",
      "metadata": {
        "id": "view-in-github",
        "colab_type": "text"
      },
      "source": [
        "<a href=\"https://colab.research.google.com/github/superyin37/leetcode/blob/main/Leetcode88_Merge_Sorted_Array.ipynb\" target=\"_parent\"><img src=\"https://colab.research.google.com/assets/colab-badge.svg\" alt=\"Open In Colab\"/></a>"
      ]
    },
    {
      "cell_type": "code",
      "execution_count": null,
      "metadata": {
        "id": "-ze6QyDhCLqc"
      },
      "outputs": [],
      "source": [
        "# sorting from start using insert require extra effort to handle with the 0s' in nums1.\n",
        "\n",
        "# instead, starting from the end(biggest number) of both lists\n",
        "\n",
        "class Solution:\n",
        "    def merge(self, nums1: List[int], m: int, nums2: List[int], n: int) -> None:\n",
        "        \"\"\"\n",
        "        Do not return anything, modify nums1 in-place instead.\n",
        "        \"\"\"\n",
        "        end = m + n - 1\n",
        "        while(m > 0 and n > 0):\n",
        "            if nums2[n - 1] > nums1[m - 1]:\n",
        "                nums1[end] = nums2[n - 1]\n",
        "                n = n - 1\n",
        "                end = end - 1\n",
        "            else:\n",
        "                nums1[end] = nums1[m - 1]\n",
        "                m = m - 1\n",
        "                end = end - 1\n",
        "        while(n > 0):\n",
        "            nums1[end] = nums2[n - 1]\n",
        "            n = n - 1\n",
        "            end = end - 1\n",
        "\n",
        "\n",
        "'''\n",
        "class Solution:\n",
        "    def merge(self, nums1: List[int], m: int, nums2: List[int], n: int) -> None:\n",
        "        \"\"\"\n",
        "        Do not return anything, modify nums1 in-place instead.\n",
        "        \"\"\"\n",
        "        i, j, k = 0, 0, 0\n",
        "        while(k < m and j < n):\n",
        "            if(nums1[i] <= nums2[j]): i = i + 1; k = k + 1\n",
        "            else:\n",
        "                nums1.insert(i, nums2[j])\n",
        "                j = j + 1\n",
        "                i = i + 1\n",
        "        while(j < n):\n",
        "            nums1.insert(i, nums2[j])\n",
        "            j = j + 1\n",
        "            i = i + 1\n",
        "        nums1[:] = nums1[: m + n]\n",
        "'''"
      ]
    }
  ]
}