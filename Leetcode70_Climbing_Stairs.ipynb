{
  "nbformat": 4,
  "nbformat_minor": 0,
  "metadata": {
    "colab": {
      "provenance": [],
      "authorship_tag": "ABX9TyO9UHJxxpjdrkAIt73qNxl2",
      "include_colab_link": true
    },
    "kernelspec": {
      "name": "python3",
      "display_name": "Python 3"
    },
    "language_info": {
      "name": "python"
    }
  },
  "cells": [
    {
      "cell_type": "markdown",
      "metadata": {
        "id": "view-in-github",
        "colab_type": "text"
      },
      "source": [
        "<a href=\"https://colab.research.google.com/github/superyin37/leetcode/blob/main/Leetcode70_Climbing_Stairs.ipynb\" target=\"_parent\"><img src=\"https://colab.research.google.com/assets/colab-badge.svg\" alt=\"Open In Colab\"/></a>"
      ]
    },
    {
      "cell_type": "code",
      "execution_count": 1,
      "metadata": {
        "id": "FxJVak-1_WWT"
      },
      "outputs": [],
      "source": [
        "# simple and classic Recursion & DP problem!!!!(Fibonacci)\n",
        "# f(n) = f(n-1) + f(n-2)\n",
        "\n",
        "'''\n",
        "# Recursion O(2^n)\n",
        "class Solution:\n",
        "    def climbStairs(self, n: int) -> int:\n",
        "        if n == 1: return 1\n",
        "        if n == 2 : return 2\n",
        "        return (self.climbStairs(n-1) + self.climbStairs(n-2))\n",
        "'''\n",
        "\n",
        "\n",
        "'''\n",
        "# DP Time:O(n) Memory:O(n)\n",
        "class Solution:\n",
        "    def climbStairs(self, n: int) -> int:\n",
        "        if n == 1: return 1\n",
        "        if n == 2 : return 2\n",
        "        a = [0] * n\n",
        "        a[0] = 1\n",
        "        a[1] = 2\n",
        "        for i in range(2, n):\n",
        "            a[i] = a[i-1] + a[i-2]\n",
        "        return a[n-1]\n",
        "'''\n",
        "\n",
        "\n",
        "# DP Time:O(n) Memory:O(1)\n",
        "class Solution:\n",
        "    def climbStairs(self, n: int) -> int:\n",
        "        if n == 1: return 1\n",
        "        if n == 2 : return 2\n",
        "        a = 1\n",
        "        b = 2\n",
        "        for i in range(3, n + 1):\n",
        "            a, b = b, a + b\n",
        "        return b\n"
      ]
    },
    {
      "cell_type": "code",
      "source": [
        "s = Solution()\n",
        "print(s.climbStairs(50))"
      ],
      "metadata": {
        "colab": {
          "base_uri": "https://localhost:8080/"
        },
        "id": "kV6WlBDe_c8k",
        "outputId": "2fa066f2-0b57-4c42-f658-2652b3ff8073"
      },
      "execution_count": 2,
      "outputs": [
        {
          "output_type": "stream",
          "name": "stdout",
          "text": [
            "20365011074\n"
          ]
        }
      ]
    },
    {
      "cell_type": "code",
      "source": [],
      "metadata": {
        "id": "zawt5tiG_fJo"
      },
      "execution_count": null,
      "outputs": []
    }
  ]
}
