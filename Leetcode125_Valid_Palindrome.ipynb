{
  "nbformat": 4,
  "nbformat_minor": 0,
  "metadata": {
    "colab": {
      "provenance": [],
      "authorship_tag": "ABX9TyMte18b/frrO64dwkGPeyTo",
      "include_colab_link": true
    },
    "kernelspec": {
      "name": "python3",
      "display_name": "Python 3"
    },
    "language_info": {
      "name": "python"
    }
  },
  "cells": [
    {
      "cell_type": "markdown",
      "metadata": {
        "id": "view-in-github",
        "colab_type": "text"
      },
      "source": [
        "<a href=\"https://colab.research.google.com/github/superyin37/leetcode/blob/main/Leetcode125_Valid_Palindrome.ipynb\" target=\"_parent\"><img src=\"https://colab.research.google.com/assets/colab-badge.svg\" alt=\"Open In Colab\"/></a>"
      ]
    },
    {
      "cell_type": "code",
      "execution_count": null,
      "metadata": {
        "id": "4IVByRJFP3ws"
      },
      "outputs": [],
      "source": [
        "# O(N)\n",
        "\n",
        "class Solution:\n",
        "    def isCharacter(self, s):\n",
        "        if 'a' <= s <= 'z' or 'A' <= s <= 'Z' or '0' <= s <= '9':\n",
        "            return True\n",
        "        else:\n",
        "            return False\n",
        "\n",
        "    def isPalindrome(self, s: str) -> bool:\n",
        "        left = 0\n",
        "        right = len(s)-1\n",
        "        while(right > left):\n",
        "            print('left=', s[left])\n",
        "            print('right=', s[right])\n",
        "            if not self.isCharacter(s[left]):\n",
        "                left += 1\n",
        "                continue\n",
        "            if not self.isCharacter(s[right]):\n",
        "                right -= 1\n",
        "                continue\n",
        "            if s[left].lower() == s[right].lower():\n",
        "                left += 1\n",
        "                right -= 1\n",
        "            else:\n",
        "                return False\n",
        "        return True\n"
      ]
    }
  ]
}